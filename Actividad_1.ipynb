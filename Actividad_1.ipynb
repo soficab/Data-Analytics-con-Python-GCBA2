{
  "nbformat": 4,
  "nbformat_minor": 0,
  "metadata": {
    "colab": {
      "provenance": [],
      "authorship_tag": "ABX9TyMJI7QnP7skrPf5UCOGBcxt",
      "include_colab_link": true
    },
    "kernelspec": {
      "name": "python3",
      "display_name": "Python 3"
    },
    "language_info": {
      "name": "python"
    }
  },
  "cells": [
    {
      "cell_type": "markdown",
      "metadata": {
        "id": "view-in-github",
        "colab_type": "text"
      },
      "source": [
        "<a href=\"https://colab.research.google.com/github/soficab/Data-Analytics-con-Python-GCBA2/blob/main/Actividad_1.ipynb\" target=\"_parent\"><img src=\"https://colab.research.google.com/assets/colab-badge.svg\" alt=\"Open In Colab\"/></a>"
      ]
    },
    {
      "cell_type": "markdown",
      "source": [
        "Es la primera actividad del curso de análisis de datos con *python*. Es una actividad simple que sirve para contruir **notebooks colaborativos**, legibles y útiles."
      ],
      "metadata": {
        "id": "IbjSVs63-noS"
      }
    },
    {
      "cell_type": "markdown",
      "source": [
        "# Sofía Caballero"
      ],
      "metadata": {
        "id": "qaubqD19X-43"
      }
    },
    {
      "cell_type": "markdown",
      "source": [
        "## 3. Lista"
      ],
      "metadata": {
        "id": "66swiSM-Xf2U"
      }
    },
    {
      "cell_type": "markdown",
      "source": [
        "-  A\n",
        "-  B\n",
        "-  C\n",
        "-  D"
      ],
      "metadata": {
        "id": "22PGp0TtYjMD"
      }
    },
    {
      "cell_type": "markdown",
      "source": [
        "## 4. Link externo"
      ],
      "metadata": {
        "id": "vEcDO7CXXUAw"
      }
    },
    {
      "cell_type": "code",
      "source": [
        "from IPython.display import HTML\n",
        "\n",
        "HTML('<a href=\"https://pandas.pydata.org/docs/\" target=\"_blank\">Documentación de Pandas</a>')"
      ],
      "metadata": {
        "colab": {
          "base_uri": "https://localhost:8080/",
          "height": 34
        },
        "id": "qUhOGIVl_4jL",
        "outputId": "fd320d06-84d4-47df-f211-58c648e541e7"
      },
      "execution_count": null,
      "outputs": [
        {
          "output_type": "execute_result",
          "data": {
            "text/plain": [
              "<IPython.core.display.HTML object>"
            ],
            "text/html": [
              "<a href=\"https://pandas.pydata.org/docs/\" target=\"_blank\">Documentación de Pandas</a>"
            ]
          },
          "metadata": {},
          "execution_count": 5
        }
      ]
    },
    {
      "cell_type": "markdown",
      "source": [
        "# 5. Imagen"
      ],
      "metadata": {
        "id": "i8QCmsyhXwRm"
      }
    },
    {
      "cell_type": "markdown",
      "source": [
        "https://drive.google.com/file/d/1aXjlB_AC5TE2CPGxuFHtg69_kshNHIGx/view?usp=drive_link\n",
        "\n",
        "\n",
        "<img src=\"https://drive.google.com/uc?id=1aXjlB_AC5TE2CPGxuFHtg69_kshNHIGx\" width=\"300\">\n"
      ],
      "metadata": {
        "id": "E79f3o93jJuE"
      }
    },
    {
      "cell_type": "markdown",
      "source": [
        "# 6. Bloque de cita"
      ],
      "metadata": {
        "id": "coA3KJxPfCJQ"
      }
    },
    {
      "cell_type": "markdown",
      "source": [
        "> Para obtener una imagen pensé algo relacionado con los datos. La fuente de la imagen es  https://unsplash.com\n",
        "\n",
        "\n",
        "\n",
        "\n"
      ],
      "metadata": {
        "id": "0ebRi2QoeW2w"
      }
    }
  ]
}