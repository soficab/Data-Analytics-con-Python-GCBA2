{
  "nbformat": 4,
  "nbformat_minor": 0,
  "metadata": {
    "colab": {
      "provenance": [],
      "authorship_tag": "ABX9TyNSCKUcxjCf1XcQeSAbwHtO",
      "include_colab_link": true
    },
    "kernelspec": {
      "name": "python3",
      "display_name": "Python 3"
    },
    "language_info": {
      "name": "python"
    }
  },
  "cells": [
    {
      "cell_type": "markdown",
      "metadata": {
        "id": "view-in-github",
        "colab_type": "text"
      },
      "source": [
        "<a href=\"https://colab.research.google.com/github/soficab/Data-Analytics-con-Python-GCBA2/blob/main/Clase_2_actividades.ipynb\" target=\"_parent\"><img src=\"https://colab.research.google.com/assets/colab-badge.svg\" alt=\"Open In Colab\"/></a>"
      ]
    },
    {
      "cell_type": "markdown",
      "source": [
        "# 1 - Estructuras de Datos\n"
      ],
      "metadata": {
        "id": "xcFKj1ucb88g"
      }
    },
    {
      "cell_type": "markdown",
      "source": [
        "\n",
        "a. Crear una lista llamada numeros que contenga los números del 1 al 10."
      ],
      "metadata": {
        "id": "p78hz-8AcHcj"
      }
    },
    {
      "cell_type": "code",
      "source": [
        "numeros = [1,2,3,4,5,6,7,8,9,10]\n",
        "print(numeros)"
      ],
      "metadata": {
        "colab": {
          "base_uri": "https://localhost:8080/"
        },
        "id": "i-aVZMV8cCyg",
        "outputId": "f67889d5-b7d6-4aba-9730-a34d6749260e"
      },
      "execution_count": null,
      "outputs": [
        {
          "output_type": "stream",
          "name": "stdout",
          "text": [
            "[1, 2, 3, 4, 5, 6, 7, 8, 9, 10]\n"
          ]
        }
      ]
    },
    {
      "cell_type": "markdown",
      "source": [
        "b- Crear una tupla llamada meses que contenga los nombres de los 12 meses del año."
      ],
      "metadata": {
        "id": "o9lEoZkH8ZRL"
      }
    },
    {
      "cell_type": "code",
      "source": [
        "meses = ('Enero', 'Febrero', 'Marzo', 'Abril', 'Mayo', 'Junio', 'Julio', 'Agosto', 'Septiembre', 'Octubre', 'Noviembre', 'Diciembre')\n",
        "print(meses)"
      ],
      "metadata": {
        "colab": {
          "base_uri": "https://localhost:8080/"
        },
        "id": "X0FSjZVfdEiF",
        "outputId": "36b63579-5d47-4935-e9e1-70e86eb3dcfa"
      },
      "execution_count": null,
      "outputs": [
        {
          "output_type": "stream",
          "name": "stdout",
          "text": [
            "('Enero', 'Febrero', 'Marzo', 'Abril', 'Mayo', 'Junio', 'Julio', 'Agosto', 'Septiembre', 'Octubre', 'Noviembre', 'Diciembre')\n"
          ]
        }
      ]
    },
    {
      "cell_type": "markdown",
      "source": [
        "Crear un conjunto llamado numeros_unicos con algunos números, asegurándose de que no haya duplicados.c-"
      ],
      "metadata": {
        "id": "NFkHHA6h8epY"
      }
    },
    {
      "cell_type": "code",
      "source": [
        "notas = {\"Juan\":7,\"Maria\":8,\"Pedro\":9}\n",
        "\n",
        "print(notas)"
      ],
      "metadata": {
        "colab": {
          "base_uri": "https://localhost:8080/"
        },
        "id": "DGLSFGkJdVr1",
        "outputId": "24c6cca8-256c-4de4-8b47-06addf892ef6"
      },
      "execution_count": null,
      "outputs": [
        {
          "output_type": "stream",
          "name": "stdout",
          "text": [
            "{'Juan': 7, 'Maria': 8, 'Pedro': 9}\n"
          ]
        }
      ]
    },
    {
      "cell_type": "markdown",
      "source": [
        "d-"
      ],
      "metadata": {
        "id": "gXI-wryt8sdn"
      }
    },
    {
      "cell_type": "code",
      "source": [
        "numeros_unicos = {22,44,44,4, 5,7,8,8, 3, 2}\n",
        "print(numeros_unicos)"
      ],
      "metadata": {
        "colab": {
          "base_uri": "https://localhost:8080/"
        },
        "id": "pAGPH-xJfDNM",
        "outputId": "51931b9f-c127-44db-bb2a-295d7327272f"
      },
      "execution_count": null,
      "outputs": [
        {
          "output_type": "stream",
          "name": "stdout",
          "text": [
            "{2, 3, 4, 5, 7, 8, 44, 22}\n"
          ]
        }
      ]
    },
    {
      "cell_type": "markdown",
      "source": [
        "# 2 - Modificación y Acceso"
      ],
      "metadata": {
        "id": "7rn42d63ga-D"
      }
    },
    {
      "cell_type": "markdown",
      "source": [
        "a. Modificar uno de los valores del diccionario notas (cambiar la nota de uno de los estudiantes)."
      ],
      "metadata": {
        "id": "jKqrBAFJgfcU"
      }
    },
    {
      "cell_type": "code",
      "source": [
        "# Cambiar la nota de Luis\n",
        "notas[\"Juan\"] = 6\n",
        "\n",
        "# Agregar un nuevo estudiante\n",
        "notas[\"Maria\"] = 10\n",
        "\n",
        "# Eliminar a Ana\n",
        "del notas[\"Pedro\"]\n",
        "\n",
        "print(notas)"
      ],
      "metadata": {
        "colab": {
          "base_uri": "https://localhost:8080/"
        },
        "id": "4zQ5GEJ0gsZK",
        "outputId": "ff211d36-b671-47bd-92bb-c221cf4da683"
      },
      "execution_count": null,
      "outputs": [
        {
          "output_type": "stream",
          "name": "stdout",
          "text": [
            "{'Juan': 7, 'Maria': 8, 'Pedro': 9}\n"
          ]
        }
      ]
    },
    {
      "cell_type": "markdown",
      "source": [
        "b. Acceder a los elementos de la lista numeros y mostrar todos los números pares utilizando un bucle."
      ],
      "metadata": {
        "id": "JXusDpIfj1Bf"
      }
    },
    {
      "cell_type": "code",
      "source": [
        "\n",
        "numeros = [1,2,3,4,5,6,7,8,9,10]\n",
        "print(numeros)\n",
        "\n",
        "for n in numeros:        # recorremos cada número en la lista\n",
        "    if numero % 2 == 0:       # verificamos si es divisible por 2\n",
        "        print(numero)         # mostramos el número"
      ],
      "metadata": {
        "colab": {
          "base_uri": "https://localhost:8080/"
        },
        "id": "pEY6Hh4shfWb",
        "outputId": "9bad4500-118b-4708-ab98-59e5a56eeef5"
      },
      "execution_count": null,
      "outputs": [
        {
          "output_type": "stream",
          "name": "stdout",
          "text": [
            "[1, 2, 3, 4, 5, 6, 7, 8, 9, 10]\n"
          ]
        }
      ]
    },
    {
      "cell_type": "markdown",
      "source": [
        "c. Acceder al primer mes de la tupla meses y al último mes. Mostrar ambos"
      ],
      "metadata": {
        "id": "TV2P_NaTkIxT"
      }
    },
    {
      "cell_type": "code",
      "source": [
        "print(\"Primer mes:\", meses[0], \"- Último mes:\", meses[-1])"
      ],
      "metadata": {
        "id": "sor7urodkQW5",
        "colab": {
          "base_uri": "https://localhost:8080/"
        },
        "outputId": "f02699d2-4edd-406f-b5c9-5bb15069e291"
      },
      "execution_count": null,
      "outputs": [
        {
          "output_type": "stream",
          "name": "stdout",
          "text": [
            "Primer mes: Enero - Último mes: Diciembre\n"
          ]
        }
      ]
    },
    {
      "cell_type": "markdown",
      "source": [
        "# 3 - Funciones Normales y Funciones Lambda"
      ],
      "metadata": {
        "id": "ysUOPTlGkPm8"
      }
    },
    {
      "cell_type": "markdown",
      "source": [
        "a. Definir una función normal llamada multiplicar_por_dos que tome un número y lo multiplique por 2. Utilizar esta función para crear una nueva lista llamada dobles, que contenga los dobles de los números en la lista numeros."
      ],
      "metadata": {
        "id": "fmeBU7Imkc60"
      }
    },
    {
      "cell_type": "code",
      "source": [
        "# Lista original\n",
        "numeros = [1, 2, 3, 4, 5]\n",
        "\n",
        "# 1. Definir la función normal\n",
        "def multiplicar_por_dos(n):\n",
        "    return n * 2\n",
        "\n",
        "dobles = []\n",
        "\n",
        "for numero in numeros:\n",
        "    resultado = multiplicar_por_dos(numero)   # guardo el resultado\n",
        "    print(f\"El doble de  {numero},  es {resultado}\")  # lo muestro\n",
        "    dobles.append(resultado)  # agrego a la lista final\n",
        "\n",
        "print(\"Lista final de dobles:\", dobles)"
      ],
      "metadata": {
        "colab": {
          "base_uri": "https://localhost:8080/"
        },
        "id": "WdjjRexYoUGp",
        "outputId": "62d43205-d446-4aa9-98cb-92ce0d9a5f14"
      },
      "execution_count": null,
      "outputs": [
        {
          "output_type": "stream",
          "name": "stdout",
          "text": [
            "El doble de  1,  es 2\n",
            "El doble de  2,  es 4\n",
            "El doble de  3,  es 6\n",
            "El doble de  4,  es 8\n",
            "El doble de  5,  es 10\n",
            "Lista final de dobles: [2, 4, 6, 8, 10]\n"
          ]
        }
      ]
    },
    {
      "cell_type": "markdown",
      "source": [
        "b. Definir una función lambda que haga lo mismo y utilizarla para crear una nueva lista llamada dobles_lambda, que contenga los dobles de los números en la lista numeros."
      ],
      "metadata": {
        "id": "19HippY3koUr"
      }
    },
    {
      "cell_type": "code",
      "source": [
        "lista = [1,2,3,4,5]\n",
        "# 1. Definir la función lambda\n",
        "multiplicar_por_dos = lambda n: n * 2\n",
        "\n",
        "# 2. Usar esa función para crear la nueva lista\n",
        "dobles_lambda = []\n",
        "for numero in numeros:\n",
        "    dobles_lambda.append(multiplicar_por_dos(numero))\n",
        "\n",
        "# 3. Mostrar resultado\n",
        "print(\"Lista original:\", numeros)\n",
        "print(\"Dobles con lambda:\", dobles_lambda)"
      ],
      "metadata": {
        "id": "LnRY6tDfkq96",
        "colab": {
          "base_uri": "https://localhost:8080/"
        },
        "outputId": "eb282c68-7cf3-4c81-8c09-5e85ffccd84c"
      },
      "execution_count": null,
      "outputs": [
        {
          "output_type": "stream",
          "name": "stdout",
          "text": [
            "Lista original: [1, 2, 3, 4, 5]\n",
            "Dobles con lambda: [2, 4, 6, 8, 10]\n"
          ]
        }
      ]
    },
    {
      "cell_type": "markdown",
      "source": [
        "# 4 - Comprehensions"
      ],
      "metadata": {
        "id": "oyMjNlR3kwar"
      }
    },
    {
      "cell_type": "markdown",
      "source": [
        "a. Utilizar list comprehensions para crear una lista llamada cuadrados que contenga los cuadrados de los números en la lista numeros."
      ],
      "metadata": {
        "id": "KTJcjJiO3dQT"
      }
    },
    {
      "cell_type": "code",
      "source": [
        "numeros = [2, 3, 4, 5]\n",
        "cuadrados = [n**2 for n in numeros] # lista\n",
        "print(cuadrados)   # [1, 4, 9, 16, 25]"
      ],
      "metadata": {
        "colab": {
          "base_uri": "https://localhost:8080/"
        },
        "id": "kGSCUZZz3noF",
        "outputId": "5e57e535-886e-452b-d77e-d34e0978c059"
      },
      "execution_count": null,
      "outputs": [
        {
          "output_type": "stream",
          "name": "stdout",
          "text": [
            "[4, 9, 16, 25]\n"
          ]
        }
      ]
    },
    {
      "cell_type": "markdown",
      "source": [
        "b. Utilizar dict comprehensions para crear un diccionario llamado cubos que contenga los números de la lista numeros como claves y sus cubos como valores."
      ],
      "metadata": {
        "id": "drbjmNyx3oAk"
      }
    },
    {
      "cell_type": "code",
      "source": [
        "numeros = [2, 3, 4, 5]\n",
        "cubos = {n: n**3 for n in numeros} #diccionario\n",
        "print(cubos)"
      ],
      "metadata": {
        "colab": {
          "base_uri": "https://localhost:8080/"
        },
        "id": "dO2tSaLNWnzh",
        "outputId": "c2b2df41-fe87-4442-a94c-9d104e6d3eb1"
      },
      "execution_count": null,
      "outputs": [
        {
          "output_type": "stream",
          "name": "stdout",
          "text": [
            "{2: 8, 3: 27, 4: 64, 5: 125}\n"
          ]
        }
      ]
    },
    {
      "cell_type": "markdown",
      "source": [
        "# 5 - Comparación de resultados."
      ],
      "metadata": {
        "id": "lOhaBV7kXp0e"
      }
    },
    {
      "cell_type": "markdown",
      "source": [
        "a. Mostrar las listas dobles, dobles_lambda y cuadrados. Comparar sus resultados y argumentar cuál es el mejor método."
      ],
      "metadata": {
        "id": "6DzL2TaSXunv"
      }
    },
    {
      "cell_type": "code",
      "source": [
        "\n",
        "print(\"Lista final de dobles:\", dobles)\n",
        "print(\"Dobles con lambda:\", dobles_lambda)\n",
        "print(\"Cuadrados (list comprehension):\", cuadrados)\n",
        "# Parece ser el método que crea la función lambda que multiplica por dos porque genero la función especificada multiplicar_por_dos = lambda n: n * 2. En cambio, en la funcion dict comprehension es camino es más largo."
      ],
      "metadata": {
        "colab": {
          "base_uri": "https://localhost:8080/"
        },
        "id": "NUSRMlATX13T",
        "outputId": "3237a142-0300-4168-9369-97bd7d0d43b8"
      },
      "execution_count": null,
      "outputs": [
        {
          "output_type": "stream",
          "name": "stdout",
          "text": [
            "Lista final de dobles: [2, 4, 6, 8, 10]\n",
            "Dobles con lambda: [2, 4, 6, 8, 10]\n",
            "Cuadrados (list comprehension): [4, 9, 16, 25]\n"
          ]
        }
      ]
    },
    {
      "cell_type": "markdown",
      "source": [
        "b. Imprimir el diccionario cubos y comparar con la creación de un diccionario usando un método convencional."
      ],
      "metadata": {
        "id": "e0odT8FjX2RK"
      }
    },
    {
      "cell_type": "code",
      "source": [
        "print(\"Diccionario de cubos (dict comprehension):\", cubos)"
      ],
      "metadata": {
        "colab": {
          "base_uri": "https://localhost:8080/"
        },
        "id": "TwiUWpcps8WT",
        "outputId": "dc8714ea-9eb8-4169-a5f4-9b3d4e1449b2"
      },
      "execution_count": null,
      "outputs": [
        {
          "output_type": "stream",
          "name": "stdout",
          "text": [
            "Diccionario de cubos (dict comprehension): {2: 8, 3: 27, 4: 64, 5: 125}\n"
          ]
        }
      ]
    },
    {
      "cell_type": "code",
      "source": [
        "# diccionario convencional\n",
        "numeros = [2, 3, 4, 5]\n",
        "cubos_convencional = {} # generar un diccionario vacío\n",
        "for n in numeros:\n",
        "    cubos_convencional[n] = n**3\n",
        "\n",
        "print(cubos_convencional)"
      ],
      "metadata": {
        "colab": {
          "base_uri": "https://localhost:8080/"
        },
        "id": "EcnzDBxytu7O",
        "outputId": "7fce3c83-6529-40fe-e281-c96d51ccd5d8"
      },
      "execution_count": null,
      "outputs": [
        {
          "output_type": "stream",
          "name": "stdout",
          "text": [
            "{2: 8, 3: 27, 4: 64, 5: 125}\n"
          ]
        }
      ]
    }
  ]
}