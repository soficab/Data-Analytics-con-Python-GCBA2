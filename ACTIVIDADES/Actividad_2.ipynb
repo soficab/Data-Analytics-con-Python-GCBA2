{
  "nbformat": 4,
  "nbformat_minor": 0,
  "metadata": {
    "colab": {
      "provenance": [],
      "toc_visible": true,
      "authorship_tag": "ABX9TyNbzStym7Ru8ngRDvl3DArY",
      "include_colab_link": true
    },
    "kernelspec": {
      "name": "python3",
      "display_name": "Python 3"
    },
    "language_info": {
      "name": "python"
    }
  },
  "cells": [
    {
      "cell_type": "markdown",
      "metadata": {
        "id": "view-in-github",
        "colab_type": "text"
      },
      "source": [
        "<a href=\"https://colab.research.google.com/github/soficab/Data-Analytics-con-Python-GCBA2/blob/main/ACTIVIDADES/Actividad_2.ipynb\" target=\"_parent\"><img src=\"https://colab.research.google.com/assets/colab-badge.svg\" alt=\"Open In Colab\"/></a>"
      ]
    },
    {
      "cell_type": "markdown",
      "source": [
        "# Actividad 2: input y condicionales"
      ],
      "metadata": {
        "id": "PN7uBnVejwRb"
      }
    },
    {
      "cell_type": "code",
      "source": [
        "# Ingresar el número\n",
        "numero = float(input(\"Escribe un numero:\"))\n",
        "\n",
        "\n",
        "# Transformo el número a entero\n",
        "numero2 = int(numero)\n",
        "\n",
        "# El número, ¿es divisible por 2?\n",
        "if numero2 % 2 == 0:\n",
        "    print(\"El numero es divisible por 2.\")\n",
        "else:\n",
        "    print(\"El numero NO es divisible por 2.\")"
      ],
      "metadata": {
        "id": "ES6TFWz_wYcA"
      },
      "execution_count": null,
      "outputs": []
    }
  ]
}